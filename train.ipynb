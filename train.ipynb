{
 "cells": [
  {
   "cell_type": "code",
   "execution_count": null,
   "metadata": {},
   "outputs": [],
   "source": [
    "from ultralytics import YOLO"
   ]
  },
  {
   "cell_type": "markdown",
   "metadata": {},
   "source": [
    "### BOrg"
   ]
  },
  {
   "cell_type": "code",
   "execution_count": null,
   "metadata": {},
   "outputs": [],
   "source": [
    "model = YOLO(\"/IHA-YOLO/ultralytics/cfg/models/iha-yolo/iha-yolom.yaml\").load(\"yolov10m.pt\")\n",
    "\n",
    "results = model.train(data=\"borgdata.yaml\", epochs=200)"
   ]
  },
  {
   "cell_type": "code",
   "execution_count": null,
   "metadata": {},
   "outputs": [],
   "source": [
    "metrics = model.val()\n",
    "\n",
    "print(f\"Mean Average Precision @.5:.95 : {metrics.box.map}\")\n",
    "print(f\"Mean Average Precision @ .50   : {metrics.box.map50}\")\n",
    "print(f\"Mean Average Precision @ .70   : {metrics.box.map75}\")"
   ]
  },
  {
   "cell_type": "markdown",
   "metadata": {},
   "source": [
    "### MoNuSAC"
   ]
  },
  {
   "cell_type": "code",
   "execution_count": null,
   "metadata": {},
   "outputs": [],
   "source": [
    "model = YOLO(\"/IHA-YOLO/ultralytics/cfg/models/iha-yolo/iha-yolom.yaml\").load(\"yolov10m.pt\")\n",
    "\n",
    "results = model.train(data=\"monusacdata.yaml\", epochs=200)"
   ]
  },
  {
   "cell_type": "code",
   "execution_count": null,
   "metadata": {},
   "outputs": [],
   "source": [
    "metrics = model.val()\n",
    "\n",
    "print(f\"Mean Average Precision @.5:.95 : {metrics.box.map}\")\n",
    "print(f\"Mean Average Precision @ .50   : {metrics.box.map50}\")\n",
    "print(f\"Mean Average Precision @ .70   : {metrics.box.map75}\")"
   ]
  },
  {
   "cell_type": "markdown",
   "metadata": {},
   "source": [
    "### CoNSeP"
   ]
  },
  {
   "cell_type": "code",
   "execution_count": null,
   "metadata": {},
   "outputs": [],
   "source": [
    "model = YOLO(\"/IHA-YOLO/ultralytics/cfg/models/iha-yolo/iha-yolom.yaml\").load(\"yolov10m.pt\")\n",
    "\n",
    "results = model.train(data=\"consepdata.yaml\", epochs=200)"
   ]
  },
  {
   "cell_type": "code",
   "execution_count": null,
   "metadata": {},
   "outputs": [],
   "source": [
    "metrics = model.val()\n",
    "\n",
    "print(f\"Mean Average Precision @.5:.95 : {metrics.box.map}\")\n",
    "print(f\"Mean Average Precision @ .50   : {metrics.box.map50}\")\n",
    "print(f\"Mean Average Precision @ .70   : {metrics.box.map75}\")"
   ]
  },
  {
   "cell_type": "markdown",
   "metadata": {},
   "source": [
    "### Mouse Embryos"
   ]
  },
  {
   "cell_type": "code",
   "execution_count": null,
   "metadata": {},
   "outputs": [],
   "source": [
    "model = YOLO(\"/IHA-YOLO/ultralytics/cfg/models/iha-yolo/iha-yolom.yaml\").load(\"yolov10m.pt\")\n",
    "\n",
    "results = model.train(data=\"embryodata.yaml\", epochs=10)"
   ]
  },
  {
   "cell_type": "code",
   "execution_count": null,
   "metadata": {},
   "outputs": [],
   "source": [
    "metrics = model.val()\n",
    "\n",
    "print(f\"Mean Average Precision @.5:.95 : {metrics.box.map}\")\n",
    "print(f\"Mean Average Precision @ .50   : {metrics.box.map50}\")\n",
    "print(f\"Mean Average Precision @ .70   : {metrics.box.map75}\")"
   ]
  },
  {
   "cell_type": "code",
   "execution_count": null,
   "metadata": {},
   "outputs": [],
   "source": [
    "model = YOLO(\"/IHA-YOLO/ultralytics/runs/detect/train4/weights/best.pt\")\n",
    "\n",
    "metrics = model.val(data=\"embryodata.yaml\", split='test')\n",
    "\n",
    "print(f\"Mean Average Precision @.5:.95 : {metrics.box.map}\")\n",
    "print(f\"Mean Average Precision @ .50   : {metrics.box.map50}\")\n",
    "print(f\"Mean Average Precision @ .70   : {metrics.box.map75}\")"
   ]
  },
  {
   "cell_type": "markdown",
   "metadata": {},
   "source": [
    "### BCCD"
   ]
  },
  {
   "cell_type": "code",
   "execution_count": null,
   "metadata": {},
   "outputs": [],
   "source": [
    "from ultralytics import YOLO\n",
    "model = YOLO(\"/IHA-YOLO/ultralytics/cfg/models/iha-yolo/iha-yolom.yaml\").load(\"yolov10m.pt\")\n",
    "\n",
    "results = model.train(data=\"bccddata.yaml\", epochs=200)"
   ]
  },
  {
   "cell_type": "code",
   "execution_count": null,
   "metadata": {},
   "outputs": [],
   "source": [
    "metrics = model.val()\n",
    "\n",
    "print(f\"Mean Average Precision @.5:.95 : {metrics.box.map}\")\n",
    "print(f\"Mean Average Precision @ .50   : {metrics.box.map50}\")\n",
    "print(f\"Mean Average Precision @ .70   : {metrics.box.map75}\")"
   ]
  },
  {
   "cell_type": "code",
   "execution_count": null,
   "metadata": {},
   "outputs": [],
   "source": [
    "model = YOLO(\"/IHA-YOLO/ultralytics/runs/detect/train5/weights/best.pt\")\n",
    "\n",
    "metrics = model.val(data=\"bccddata.yaml\", split='test')\n",
    "\n",
    "print(f\"Mean Average Precision @.5:.95 : {metrics.box.map}\")\n",
    "print(f\"Mean Average Precision @ .50   : {metrics.box.map50}\")\n",
    "print(f\"Mean Average Precision @ .70   : {metrics.box.map75}\")"
   ]
  }
 ],
 "metadata": {
  "kernelspec": {
   "display_name": "yolo_new",
   "language": "python",
   "name": "python3"
  },
  "language_info": {
   "codemirror_mode": {
    "name": "ipython",
    "version": 3
   },
   "file_extension": ".py",
   "mimetype": "text/x-python",
   "name": "python",
   "nbconvert_exporter": "python",
   "pygments_lexer": "ipython3",
   "version": "3.10.14"
  },
  "orig_nbformat": 4
 },
 "nbformat": 4,
 "nbformat_minor": 2
}
